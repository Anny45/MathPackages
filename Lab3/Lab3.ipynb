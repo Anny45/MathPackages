{
 "cells": [
  {
   "cell_type": "markdown",
   "id": "4096e5a4",
   "metadata": {},
   "source": [
    "# Лабораторная работа №3"
   ]
  },
  {
   "cell_type": "markdown",
   "id": "b7a0de40",
   "metadata": {},
   "source": [
    "Выполнила студентка гр. 9383 - Карпекина Анна, вариант 6."
   ]
  },
  {
   "cell_type": "markdown",
   "id": "ef320ef1",
   "metadata": {},
   "source": [
    "## Цель работы"
   ]
  },
  {
   "cell_type": "markdown",
   "id": "60de8fd3",
   "metadata": {},
   "source": [
    "Практическое применение библиотеки символьных вычислений Python (SymPy) для решения задач дискретной математики и математической логики."
   ]
  },
  {
   "cell_type": "markdown",
   "id": "c186f8a1",
   "metadata": {},
   "source": [
    "## Задачи"
   ]
  },
  {
   "cell_type": "markdown",
   "id": "5bb13efd",
   "metadata": {},
   "source": [
    "1. Решить свой вариант диофантова уравнения.\n",
    "2. Имея открытую часть ключа RSA найти соответствующую закрытую часть и расшифровать кодированное слово.\n",
    "3. Записать в формате ДНФ и КНФ булеву функцию, заданную своим аналитическим выражением."
   ]
  },
  {
   "cell_type": "markdown",
   "id": "e96236d4",
   "metadata": {},
   "source": [
    "## Задание 1 - Вариант 46."
   ]
  },
  {
   "cell_type": "markdown",
   "id": "1cf117e5",
   "metadata": {},
   "source": [
    "Решить диофантово уравнение 1612x− 1391y = 65."
   ]
  },
  {
   "cell_type": "code",
   "execution_count": 24,
   "id": "13e6c966",
   "metadata": {},
   "outputs": [
    {
     "data": {
      "text/latex": [
       "$\\displaystyle \\left( 107 t_{0} - 220, \\  124 t_{0} - 255\\right)$"
      ],
      "text/plain": [
       "(107*t_0 - 220, 124*t_0 - 255)"
      ]
     },
     "execution_count": 24,
     "metadata": {},
     "output_type": "execute_result"
    }
   ],
   "source": [
    "import sympy\n",
    "from sympy.solvers.diophantine.diophantine import diop_solve\n",
    "diop_solve(1612*x - 1391*y - 65)"
   ]
  },
  {
   "cell_type": "markdown",
   "id": "88cc9b66",
   "metadata": {},
   "source": [
    "## Задание 2 - Вариант 46."
   ]
  },
  {
   "cell_type": "markdown",
   "id": "e7703b60",
   "metadata": {},
   "source": [
    "Русское слово из четырех букв закодировано при помощи алгоритма RSA открытым ключом (e = 15,m = 46).\n",
    "Шифрованное сообщение имеет вид (32; 40; 4; 28). Подберите закрытую часть ключа и прочитайте исходное слово.\n",
    "Буквам русского алфавита соответсвуют числа в диапазоне от 2 до 32 (исключены буквы “ё” и “ъ”)."
   ]
  },
  {
   "cell_type": "code",
   "execution_count": 41,
   "id": "1bd2195b",
   "metadata": {},
   "outputs": [
    {
     "name": "stdout",
     "output_type": "stream",
     "text": [
      "омри\n"
     ]
    }
   ],
   "source": [
    "from sympy.crypto.crypto import rsa_private_key, decipher_rsa\n",
    "\n",
    "key = rsa_private_key(46, 15)\n",
    "msg = [32, 40, 4, 28]\n",
    "alphabet = ['а', 'б', 'в', 'г', 'д', 'е', 'ж', 'з', 'и', 'й', 'к', 'л', 'м', 'н', 'о', \n",
    "            'п', 'р', 'с', 'т', 'у', 'ф', 'х', 'ц', 'ч', 'ш', 'щ', 'ы', 'ь', 'э', 'ю', 'я']\n",
    "print(\"\".join([alphabet[decipher_rsa(i, key)-2] for i in msg]))"
   ]
  },
  {
   "cell_type": "markdown",
   "id": "e3e608b0",
   "metadata": {},
   "source": [
    "## Задание 3 - Вариант 66."
   ]
  },
  {
   "cell_type": "markdown",
   "id": "ab71800c",
   "metadata": {},
   "source": [
    "Пусть f(x, y, z) = ((z ∨ x)(yz)) xor ((x ∨ y) xor x): найти ДНФ и КНФ."
   ]
  },
  {
   "cell_type": "code",
   "execution_count": 29,
   "id": "eee5ef6f",
   "metadata": {},
   "outputs": [
    {
     "name": "stdout",
     "output_type": "stream",
     "text": [
      "ДНФ -  (x & y & z) | (y & ~x & ~z)\n",
      "КНФ -  y & (x | ~z) & (z | ~x)\n"
     ]
    }
   ],
   "source": [
    "from sympy.logic.boolalg import *\n",
    "from sympy.abc import x, y, z\n",
    "\n",
    "foo = (((z | x) & ( y & z)) ^ ((x | y) ^ x))\n",
    "\n",
    "print(\"ДНФ - \", to_dnf(foo, simplify=True))\n",
    "print(\"КНФ - \", to_cnf(foo, simplify=True))"
   ]
  },
  {
   "cell_type": "markdown",
   "id": "1b94257c",
   "metadata": {},
   "source": [
    "## Выводы"
   ]
  },
  {
   "cell_type": "markdown",
   "id": "671e33c6",
   "metadata": {},
   "source": [
    "Была изучена и практически применена библиотека символьных вычислений Python (SymPy) для решения задач дискретной математики и математической логики."
   ]
  },
  {
   "cell_type": "markdown",
   "id": "14a54082",
   "metadata": {},
   "source": [
    "## Источники"
   ]
  },
  {
   "cell_type": "markdown",
   "id": "cc13b523",
   "metadata": {},
   "source": [
    "https://docs.sympy.org/latest/index.html"
   ]
  }
 ],
 "metadata": {
  "kernelspec": {
   "display_name": "Python 3 (ipykernel)",
   "language": "python",
   "name": "python3"
  },
  "language_info": {
   "codemirror_mode": {
    "name": "ipython",
    "version": 3
   },
   "file_extension": ".py",
   "mimetype": "text/x-python",
   "name": "python",
   "nbconvert_exporter": "python",
   "pygments_lexer": "ipython3",
   "version": "3.10.1"
  }
 },
 "nbformat": 4,
 "nbformat_minor": 5
}
